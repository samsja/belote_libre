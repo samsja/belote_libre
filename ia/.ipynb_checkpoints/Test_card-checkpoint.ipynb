{
 "cells": [
  {
   "cell_type": "code",
   "execution_count": 1,
   "metadata": {},
   "outputs": [],
   "source": [
    "import os\n",
    "os.chdir(\"src\")"
   ]
  },
  {
   "cell_type": "code",
   "execution_count": 2,
   "metadata": {},
   "outputs": [],
   "source": [
    "from agents import StupidPlayer,RandomPlayer\n",
    "from game import SansAtout\n",
    "from deck import SimpleDeck,BeloteDeck\n",
    "from vizu import StdoutVizu,TerminalVizu"
   ]
  },
  {
   "cell_type": "code",
   "execution_count": 3,
   "metadata": {},
   "outputs": [],
   "source": [
    "nb_pli = 1\n",
    "\n",
    "env = SansAtout(nb_player=2,card_deck=SimpleDeck())\n",
    "# viz = StdoutVizu()\n",
    "viz = TerminalVizu()\n",
    "\n",
    "players = [ RandomPlayer() for _ in range(env.nb_player) ]"
   ]
  },
  {
   "cell_type": "code",
   "execution_count": 4,
   "metadata": {},
   "outputs": [
    {
     "name": "stdout",
     "output_type": "stream",
     "text": [
      "player 1 has :  \u001b[31m🂱\u001b[39m \u001b[34m🃁\u001b[39m \u001b[31m🂽\u001b[39m \u001b[34m🃋\u001b[39m \u001b[31m🂾\u001b[39m \u001b[32m🃝\u001b[39m \u001b[32m🃛\u001b[39m \u001b[30m🂡\u001b[39m\n",
      "player 2 has :  \u001b[32m🃞\u001b[39m \u001b[34m🃎\u001b[39m \u001b[30m🂮\u001b[39m \u001b[30m🂭\u001b[39m \u001b[34m🃍\u001b[39m \u001b[31m🂻\u001b[39m \u001b[30m🂫\u001b[39m \u001b[32m🃑\u001b[39m\n"
     ]
    }
   ],
   "source": [
    "print(\"player 1 has : \" + viz.set_info(env.get_cards_player(0),print_b=False))\n",
    "print(\"player 2 has : \" + viz.set_info(env.get_cards_player(1),print_b=False))"
   ]
  },
  {
   "cell_type": "code",
   "execution_count": 5,
   "metadata": {},
   "outputs": [],
   "source": [
    "for i in range(env.nb_player*nb_pli):\n",
    "\n",
    "    action_passed = False\n",
    "    while not(action_passed) and isinstance(action_passed,bool):\n",
    "        possible_actions = env.get_cards_player(env.next_player)\n",
    "        selected_action = players[env.next_player].select_an_action(possible_actions)\n",
    "        action_passed = env.play_a_card(selected_action)"
   ]
  },
  {
   "cell_type": "code",
   "execution_count": 6,
   "metadata": {
    "scrolled": true
   },
   "outputs": [
    {
     "name": "stdout",
     "output_type": "stream",
     "text": [
      "1.\n",
      "\u001b[31m🂽\u001b[39m \u001b[32m🃑\u001b[39m   \n"
     ]
    }
   ],
   "source": [
    "for idx,pli in enumerate(env.all_pli):\n",
    "    print(f\"{idx+1}.\")\n",
    "    viz.pli_info(pli)"
   ]
  },
  {
   "cell_type": "code",
   "execution_count": 7,
   "metadata": {},
   "outputs": [
    {
     "name": "stdout",
     "output_type": "stream",
     "text": [
      "player 1 has :  \u001b[31m🂻\u001b[39m \u001b[34m🃁\u001b[39m \u001b[31m🂽\u001b[39m \u001b[30m🂮\u001b[39m \u001b[34m🃎\u001b[39m \u001b[34m🃍\u001b[39m \u001b[30m🂡\u001b[39m \u001b[32m🃝\u001b[39m\n",
      "player 2 has :  \u001b[32m🃛\u001b[39m \u001b[30m🂫\u001b[39m \u001b[30m🂭\u001b[39m \u001b[34m🃋\u001b[39m \u001b[31m🂱\u001b[39m \u001b[32m🃞\u001b[39m \u001b[31m🂾\u001b[39m \u001b[32m🃑\u001b[39m\n"
     ]
    }
   ],
   "source": [
    "print(\"player 1 has : \" + viz.set_info(env.get_cards_player(0),print_b=False))\n",
    "print(\"player 2 has : \" + viz.set_info(env.get_cards_player(1),print_b=False))"
   ]
  },
  {
   "cell_type": "code",
   "execution_count": 12,
   "metadata": {},
   "outputs": [],
   "source": [
    "import numpy as np"
   ]
  },
  {
   "cell_type": "code",
   "execution_count": 14,
   "metadata": {},
   "outputs": [
    {
     "ename": "TypeError",
     "evalue": "where() got an unexpected keyword argument 'axis'",
     "output_type": "error",
     "traceback": [
      "\u001b[0;31m---------------------------------------------------------------------------\u001b[0m",
      "\u001b[0;31mTypeError\u001b[0m                                 Traceback (most recent call last)",
      "\u001b[0;32m<ipython-input-14-55c8abd53b9a>\u001b[0m in \u001b[0;36m<module>\u001b[0;34m\u001b[0m\n\u001b[0;32m----> 1\u001b[0;31m \u001b[0mnp\u001b[0m\u001b[0;34m.\u001b[0m\u001b[0mwhere\u001b[0m\u001b[0;34m(\u001b[0m\u001b[0menv\u001b[0m\u001b[0;34m.\u001b[0m\u001b[0mcard_deck\u001b[0m\u001b[0;34m.\u001b[0m\u001b[0mset\u001b[0m \u001b[0;34m==\u001b[0m \u001b[0menv\u001b[0m\u001b[0;34m.\u001b[0m\u001b[0mall_pli\u001b[0m\u001b[0;34m[\u001b[0m\u001b[0;34m-\u001b[0m\u001b[0;36m1\u001b[0m\u001b[0;34m]\u001b[0m\u001b[0;34m[\u001b[0m\u001b[0;36m0\u001b[0m\u001b[0;34m]\u001b[0m\u001b[0;34m[\u001b[0m\u001b[0;36m0\u001b[0m\u001b[0;34m]\u001b[0m\u001b[0;34m,\u001b[0m\u001b[0maxis\u001b[0m\u001b[0;34m=\u001b[0m\u001b[0;36m0\u001b[0m\u001b[0;34m)\u001b[0m\u001b[0;34m\u001b[0m\u001b[0;34m\u001b[0m\u001b[0m\n\u001b[0m",
      "\u001b[0;32m<__array_function__ internals>\u001b[0m in \u001b[0;36mwhere\u001b[0;34m(*args, **kwargs)\u001b[0m\n",
      "\u001b[0;31mTypeError\u001b[0m: where() got an unexpected keyword argument 'axis'"
     ]
    }
   ],
   "source": [
    "np.where(env.card_deck.set == env.all_pli[-1][0][0])"
   ]
  },
  {
   "cell_type": "code",
   "execution_count": null,
   "metadata": {},
   "outputs": [],
   "source": []
  }
 ],
 "metadata": {
  "kernelspec": {
   "display_name": "Python 3",
   "language": "python",
   "name": "python3"
  },
  "language_info": {
   "codemirror_mode": {
    "name": "ipython",
    "version": 3
   },
   "file_extension": ".py",
   "mimetype": "text/x-python",
   "name": "python",
   "nbconvert_exporter": "python",
   "pygments_lexer": "ipython3",
   "version": "3.8.2"
  }
 },
 "nbformat": 4,
 "nbformat_minor": 4
}
