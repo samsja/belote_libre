{
 "cells": [
  {
   "cell_type": "code",
   "execution_count": 1,
   "metadata": {},
   "outputs": [],
   "source": [
    "import os\n",
    "os.chdir(\"src\")"
   ]
  },
  {
   "cell_type": "code",
   "execution_count": 2,
   "metadata": {},
   "outputs": [],
   "source": [
    "from agents import StupidPlayer,RandomPlayer\n",
    "from game import SansAtout\n",
    "from vizu import StdoutVizu,TerminalVizu"
   ]
  },
  {
   "cell_type": "code",
   "execution_count": 3,
   "metadata": {},
   "outputs": [],
   "source": [
    "nb_pli = 2\n",
    "\n",
    "env = SansAtout()\n",
    "# viz = StdoutVizu()\n",
    "viz = TerminalVizu()\n",
    "\n",
    "players = [ RandomPlayer() for _ in range(env.nb_player) ]"
   ]
  },
  {
   "cell_type": "code",
   "execution_count": 9,
   "metadata": {},
   "outputs": [
    {
     "data": {
      "text/plain": [
       "False"
      ]
     },
     "execution_count": 9,
     "metadata": {},
     "output_type": "execute_result"
    }
   ],
   "source": [
    "isinstance(0,bool)"
   ]
  },
  {
   "cell_type": "code",
   "execution_count": 5,
   "metadata": {},
   "outputs": [],
   "source": [
    "for i in range(env.nb_player*nb_pli):\n",
    "\n",
    "    action_passed = False\n",
    "\n",
    "    while not(action_passed) and isinstance(action_passed,bool):\n",
    "        possible_actions = env.get_cards_player(env.next_player)\n",
    "        selected_action = players[env.next_player].select_an_action(possible_actions)\n",
    "        action_passed = env.play_a_card(selected_action)\n",
    "        print(action_passed)\n",
    "\n"
   ]
  },
  {
   "cell_type": "code",
   "execution_count": 6,
   "metadata": {},
   "outputs": [],
   "source": [
    "for idx,pli in enumerate(env.all_pli):\n",
    "    print(f\"{idx+1}.\")\n",
    "    viz.pli_info(pli)"
   ]
  },
  {
   "cell_type": "code",
   "execution_count": null,
   "metadata": {},
   "outputs": [],
   "source": []
  }
 ],
 "metadata": {
  "kernelspec": {
   "display_name": "Python 3",
   "language": "python",
   "name": "python3"
  },
  "language_info": {
   "codemirror_mode": {
    "name": "ipython",
    "version": 3
   },
   "file_extension": ".py",
   "mimetype": "text/x-python",
   "name": "python",
   "nbconvert_exporter": "python",
   "pygments_lexer": "ipython3",
   "version": "3.8.2"
  }
 },
 "nbformat": 4,
 "nbformat_minor": 4
}
